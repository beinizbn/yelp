{
 "cells": [
  {
   "cell_type": "code",
   "execution_count": null,
   "metadata": {
    "collapsed": true
   },
   "outputs": [],
   "source": [
    "#%load_ext autoreload\n",
    "#%autoreload 2"
   ]
  },
  {
   "cell_type": "code",
   "execution_count": 1,
   "metadata": {
    "collapsed": true
   },
   "outputs": [],
   "source": [
    "import gzip\n",
    "import re\n",
    "from collections import defaultdict\n",
    "\n",
    "import numpy as np\n",
    "import pandas as pd"
   ]
  },
  {
   "cell_type": "code",
   "execution_count": 2,
   "metadata": {
    "collapsed": false
   },
   "outputs": [
    {
     "name": "stderr",
     "output_type": "stream",
     "text": [
      "/home/leonidk/.local/lib/python2.7/site-packages/IPython/core/interactiveshell.py:2723: DtypeWarning: Columns (1,3) have mixed types. Specify dtype option on import or set low_memory=False.\n",
      "  interactivity=interactivity, compiler=compiler, result=result)\n"
     ]
    }
   ],
   "source": [
    "review_full = pd.read_csv('data/review.tsv.gz',sep='\\t')\n",
    "tip_full = pd.read_csv('data/tip.tsv.gz',sep='\\t')\n",
    "business_full = pd.read_csv('data/business.tsv.gz',sep='\\t')\n",
    "checkin_full = pd.read_csv('data/checkin.tsv.gz',sep='\\t')"
   ]
  },
  {
   "cell_type": "code",
   "execution_count": 6,
   "metadata": {
    "collapsed": false
   },
   "outputs": [
    {
     "name": "stdout",
     "output_type": "stream",
     "text": [
      "(2577313, 10) (797099, 10) (48485, 16) (602833, 6) (46417, 3)\n",
      "(797099, 10) (45352, 16) (599707, 6) (43848, 3)\n"
     ]
    }
   ],
   "source": [
    "if True:\n",
    "    user_valid = review_full.groupby('user_id').count()\n",
    "    review_sub = review_full[review_full.user_id.isin(list(user_valid[user_valid.business_id > 20].index))]\n",
    "\n",
    "    print review_full.shape,review_sub.shape,business_full.shape,tip_full.shape,checkin_full.shape\n",
    "    review = review_sub#.sample(frac=0.01, replace=False)\n",
    "    business = business_full[business_full.business_id.isin(list(review.business_id.unique()))]\n",
    "    tip = tip_full[tip_full.business_id.isin(list(review.business_id.unique()))]\n",
    "    checkin = checkin_full[checkin_full.business_id.isin(list(review.business_id.unique()))]\n",
    "    print review.shape,business.shape,tip.shape,checkin.shape\n",
    "else:\n",
    "    review = review_full\n",
    "    tip = tip_full\n",
    "    business = business_full\n",
    "    checkin = checkin_full"
   ]
  },
  {
   "cell_type": "code",
   "execution_count": 7,
   "metadata": {
    "collapsed": false
   },
   "outputs": [],
   "source": [
    "categories = defaultdict(int)\n",
    "for row,cnt in zip(business.categories,business.review_count):\n",
    "    for ct in row.strip('[]').split(','):\n",
    "        categories[ct.strip()] += cnt\n",
    "cats = sorted([(v,k) for k,v in categories.iteritems()])[::-1]"
   ]
  },
  {
   "cell_type": "code",
   "execution_count": 43,
   "metadata": {
    "collapsed": false
   },
   "outputs": [],
   "source": [
    "good_cats = []\n",
    "\n",
    "if False:\n",
    "    small_bus = business.loc[:,['business_id','categories']]\n",
    "    for cnt, cat in cats:\n",
    "        small_bus[cat] = small_bus.categories.str.contains(re.escape(cat))\n",
    "    small_bus = small_bus.loc[:,[k for k in small_bus.columns if k != 'categories']]\n",
    "    users = review.loc[:,['user_id','business_id','stars']]\n",
    "    all_reviews = users.merge(small_bus,on='business_id')\n",
    "    log_or = all_reviews.groupby('user_id').sum()\n",
    "    if True:\n",
    "        with open(\"filtered_100.txt\") as fp:\n",
    "            for line in fp:\n",
    "                cnt, label = line.split(',')\n",
    "                good_cats.append(label.strip())\n",
    "\n",
    "    cand_cats = [cat for cnt,cat in cats if cat not in good_cats]\n",
    "    while len(cand_cats) > 0:\n",
    "        cnts = []\n",
    "        if len(good_cats) > 0:\n",
    "            good_filter = log_or[good_cats[0]] > 0\n",
    "            for i in xrange(1,len(good_cats)):\n",
    "                good_filter = good_filter & (log_or[good_cats[1]] > 0)\n",
    "        for cat in cand_cats:\n",
    "            if len(good_cats) > 0:\n",
    "                cnts.append(((log_or[(log_or[cat] >0) & good_filter].shape[0],cat)))\n",
    "            else:\n",
    "                cnts.append((log_or[log_or[cat] > 0].shape[0],cat))\n",
    "\n",
    "        cnts = sorted(cnts)[::-1]\n",
    "        if cnts[0][0] > 500:\n",
    "            good_cats.append(cnts[0][1])\n",
    "            cand_cats.remove(cnts[0][1])\n",
    "            print cnts[0]\n",
    "        else:\n",
    "            break"
   ]
  },
  {
   "cell_type": "code",
   "execution_count": 44,
   "metadata": {
    "collapsed": false
   },
   "outputs": [
    {
     "name": "stdout",
     "output_type": "stream",
     "text": [
      "25\n"
     ]
    }
   ],
   "source": [
    "if len(good_cats) > 0:\n",
    "    valid_cats = good_cats[:]\n",
    "    print len(valid_cats)\n",
    "elif True:\n",
    "    with open(\"filtered_100.txt\") as fp:\n",
    "        for line in fp:\n",
    "            cnt, label = line.split(',')\n",
    "            good_cats.append(label.strip())\n",
    "    valid_cats = good_cats[:25]\n",
    "    print len(valid_cats)\n",
    "else:\n",
    "    print len(cats)\n",
    "    valid_cats = [k for v,k in cats[:35]]\n",
    "    print valid_cats\n",
    "\n",
    "small_bus = business.loc[:,['business_id','categories']]\n",
    "for cat in valid_cats:\n",
    "    small_bus[cat] = small_bus.categories.str.contains(re.escape(cat))\n",
    "small_bus = small_bus.loc[:,[k for k in small_bus.columns if k != 'categories']]"
   ]
  },
  {
   "cell_type": "code",
   "execution_count": 45,
   "metadata": {
    "collapsed": false
   },
   "outputs": [],
   "source": [
    "users = review.loc[:,['user_id','business_id','stars']]"
   ]
  },
  {
   "cell_type": "code",
   "execution_count": 46,
   "metadata": {
    "collapsed": false
   },
   "outputs": [],
   "source": [
    "#users['liked'] = users.stars > 3.0"
   ]
  },
  {
   "cell_type": "code",
   "execution_count": 47,
   "metadata": {
    "collapsed": false
   },
   "outputs": [],
   "source": [
    "all_reviews = users.merge(small_bus,on='business_id')"
   ]
  },
  {
   "cell_type": "code",
   "execution_count": 48,
   "metadata": {
    "collapsed": false
   },
   "outputs": [
    {
     "data": {
      "text/plain": [
       "(1095, 25)"
      ]
     },
     "execution_count": 48,
     "metadata": {},
     "output_type": "execute_result"
    }
   ],
   "source": [
    "#liking\n",
    "new_reviews = pd.DataFrame()\n",
    "for cat in valid_cats:\n",
    "    new_reviews[cat]= all_reviews[all_reviews[cat]].groupby('user_id').mean()['stars'] > 3\n",
    "data_sample = new_reviews.dropna()\n",
    "#visting\n",
    "#data_sample = all_reviews.loc[:,[k for k in small_bus.columns if k not in ['user_id','business_id','stars']]]\n",
    "data_sample.shape # (1500, 21) or (28,51) or (500,35)"
   ]
  },
  {
   "cell_type": "markdown",
   "metadata": {},
   "source": [
    "# Model Fitting"
   ]
  },
  {
   "cell_type": "code",
   "execution_count": 49,
   "metadata": {
    "collapsed": false
   },
   "outputs": [],
   "source": [
    "from pgmpy.estimators import BdeuScore, K2Score, BicScore\n",
    "from pgmpy.models import BayesianModel\n",
    "from pgmpy.estimators import HillClimbSearch\n",
    "from pgmpy.estimators import ConstraintBasedEstimator\n",
    "from pgmpy.estimators import MaximumLikelihoodEstimator"
   ]
  },
  {
   "cell_type": "code",
   "execution_count": 50,
   "metadata": {
    "collapsed": false
   },
   "outputs": [],
   "source": [
    "#hc = HillClimbSearch(data_sample, scoring_method=BicScore(data_sample))\n",
    "#best_model = hc.estimate()\n",
    "#print(best_model.edges())"
   ]
  },
  {
   "cell_type": "code",
   "execution_count": 51,
   "metadata": {
    "collapsed": false
   },
   "outputs": [],
   "source": [
    "est = ConstraintBasedEstimator(data_sample)"
   ]
  },
  {
   "cell_type": "code",
   "execution_count": null,
   "metadata": {
    "collapsed": false
   },
   "outputs": [],
   "source": [
    "clf = est.estimate(significance_level=0.01)\n",
    "print clf.edges()"
   ]
  },
  {
   "cell_type": "code",
   "execution_count": 41,
   "metadata": {
    "collapsed": false
   },
   "outputs": [],
   "source": [
    "model = BayesianModel(clf.edges())\n",
    "model.fit(data_sample)"
   ]
  },
  {
   "cell_type": "code",
   "execution_count": 42,
   "metadata": {
    "collapsed": false
   },
   "outputs": [
    {
     "name": "stdout",
     "output_type": "stream",
     "text": [
      "+-----------------------+--------------------+-------------------+\n",
      "| Restaurants           | Restaurants(False) | Restaurants(True) |\n",
      "+-----------------------+--------------------+-------------------+\n",
      "| American (New)(False) | 0.777777777778     | 0.0737833594976   |\n",
      "+-----------------------+--------------------+-------------------+\n",
      "| American (New)(True)  | 0.222222222222     | 0.926216640502    |\n",
      "+-----------------------+--------------------+-------------------+\n",
      "+-------------------------------+---------------------------+---------------------------+--------------------------+--------------------------+\n",
      "| Breakfast & Brunch            | Breakfast & Brunch(False) | Breakfast & Brunch(False) | Breakfast & Brunch(True) | Breakfast & Brunch(True) |\n",
      "+-------------------------------+---------------------------+---------------------------+--------------------------+--------------------------+\n",
      "| Burgers                       | Burgers(False)            | Burgers(True)             | Burgers(False)           | Burgers(True)            |\n",
      "+-------------------------------+---------------------------+---------------------------+--------------------------+--------------------------+\n",
      "| American (Traditional)(False) | 0.756756756757            | 0.339285714286            | 0.317647058824           | 0.0468003820439          |\n",
      "+-------------------------------+---------------------------+---------------------------+--------------------------+--------------------------+\n",
      "| American (Traditional)(True)  | 0.243243243243            | 0.660714285714            | 0.682352941176           | 0.953199617956           |\n",
      "+-------------------------------+---------------------------+---------------------------+--------------------------+--------------------------+\n",
      "+-----------------+----------+\n",
      "| Barbeque(False) | 0.215267 |\n",
      "+-----------------+----------+\n",
      "| Barbeque(True)  | 0.784733 |\n",
      "+-----------------+----------+\n",
      "+---------------------------+---------------------+--------------------+\n",
      "| Coffee & Tea              | Coffee & Tea(False) | Coffee & Tea(True) |\n",
      "+---------------------------+---------------------+--------------------+\n",
      "| Breakfast & Brunch(False) | 0.285714285714      | 0.0423875432526    |\n",
      "+---------------------------+---------------------+--------------------+\n",
      "| Breakfast & Brunch(True)  | 0.714285714286      | 0.957612456747     |\n",
      "+---------------------------+---------------------+--------------------+\n",
      "+----------------+----------+\n",
      "| Burgers(False) | 0.158015 |\n",
      "+----------------+----------+\n",
      "| Burgers(True)  | 0.841985 |\n",
      "+----------------+----------+\n",
      "+--------------+---------------------+---------------------+--------------------+--------------------+\n",
      "| Coffee & Tea | Coffee & Tea(False) | Coffee & Tea(False) | Coffee & Tea(True) | Coffee & Tea(True) |\n",
      "+--------------+---------------------+---------------------+--------------------+--------------------+\n",
      "| Desserts     | Desserts(False)     | Desserts(True)      | Desserts(False)    | Desserts(True)     |\n",
      "+--------------+---------------------+---------------------+--------------------+--------------------+\n",
      "| Cafes(False) | 0.577777777778      | 0.293577981651      | 0.201298701299     | 0.064870259481     |\n",
      "+--------------+---------------------+---------------------+--------------------+--------------------+\n",
      "| Cafes(True)  | 0.422222222222      | 0.706422018349      | 0.798701298701     | 0.935129740519     |\n",
      "+--------------+---------------------+---------------------+--------------------+--------------------+\n",
      "+---------------------+----------+\n",
      "| Coffee & Tea(False) | 0.117557 |\n",
      "+---------------------+----------+\n",
      "| Coffee & Tea(True)  | 0.882443 |\n",
      "+---------------------+----------+\n",
      "+-----------------+----------+\n",
      "| Desserts(False) | 0.151908 |\n",
      "+-----------------+----------+\n",
      "| Desserts(True)  | 0.848092 |\n",
      "+-----------------+----------+\n",
      "+------------------+----------------+----------------+\n",
      "| Mexican          | Mexican(False) | Mexican(True)  |\n",
      "+------------------+----------------+----------------+\n",
      "| Fast Food(False) | 0.552486187845 | 0.215234720992 |\n",
      "+------------------+----------------+----------------+\n",
      "| Fast Food(True)  | 0.447513812155 | 0.784765279008 |\n",
      "+------------------+----------------+----------------+\n",
      "+-------------+--------------------+-------------------+\n",
      "| Restaurants | Restaurants(False) | Restaurants(True) |\n",
      "+-------------+--------------------+-------------------+\n",
      "| Food(False) | 0.638888888889     | 0.0172684458399   |\n",
      "+-------------+--------------------+-------------------+\n",
      "| Food(True)  | 0.361111111111     | 0.98273155416     |\n",
      "+-------------+--------------------+-------------------+\n",
      "+----------------+-----+\n",
      "| Italian(False) | 0.1 |\n",
      "+----------------+-----+\n",
      "| Italian(True)  | 0.9 |\n",
      "+----------------+-----+\n",
      "+-----------------+-------------------+------------------+\n",
      "| Sushi Bars      | Sushi Bars(False) | Sushi Bars(True) |\n",
      "+-----------------+-------------------+------------------+\n",
      "| Japanese(False) | 0.548837209302    | 0.0694063926941  |\n",
      "+-----------------+-------------------+------------------+\n",
      "| Japanese(True)  | 0.451162790698    | 0.930593607306   |\n",
      "+-----------------+-------------------+------------------+\n",
      "+----------------------+-----------------+----------------+\n",
      "| Barbeque             | Barbeque(False) | Barbeque(True) |\n",
      "+----------------------+-----------------+----------------+\n",
      "| Mediterranean(False) | 0.283687943262  | 0.128404669261 |\n",
      "+----------------------+-----------------+----------------+\n",
      "| Mediterranean(True)  | 0.716312056738  | 0.871595330739 |\n",
      "+----------------------+-----------------+----------------+\n",
      "+----------------+----------------+-----------------+\n",
      "| Burgers        | Burgers(False) | Burgers(True)   |\n",
      "+----------------+----------------+-----------------+\n",
      "| Mexican(False) | 0.367149758454 | 0.0951949229374 |\n",
      "+----------------+----------------+-----------------+\n",
      "| Mexican(True)  | 0.632850241546 | 0.904805077063  |\n",
      "+----------------+----------------+-----------------+\n",
      "+--------------+-------------------+------------------+-------------------+------------------+\n",
      "| Italian      | Italian(False)    | Italian(False)   | Italian(True)     | Italian(True)    |\n",
      "+--------------+-------------------+------------------+-------------------+------------------+\n",
      "| Sandwiches   | Sandwiches(False) | Sandwiches(True) | Sandwiches(False) | Sandwiches(True) |\n",
      "+--------------+-------------------+------------------+-------------------+------------------+\n",
      "| Pizza(False) | 0.633333333333    | 0.366336633663   | 0.281690140845    | 0.0541516245487  |\n",
      "+--------------+-------------------+------------------+-------------------+------------------+\n",
      "| Pizza(True)  | 0.366666666667    | 0.633663366337   | 0.718309859155    | 0.945848375451   |\n",
      "+--------------+-------------------+------------------+-------------------+------------------+\n",
      "+--------------------+-----------+\n",
      "| Restaurants(False) | 0.0274809 |\n",
      "+--------------------+-----------+\n",
      "| Restaurants(True)  | 0.972519  |\n",
      "+--------------------+-----------+\n",
      "+--------------+----------+\n",
      "| Salad(False) | 0.153435 |\n",
      "+--------------+----------+\n",
      "| Salad(True)  | 0.846565 |\n",
      "+--------------+----------+\n",
      "+-------------------+----------------+-----------------+\n",
      "| Salad             | Salad(False)   | Salad(True)     |\n",
      "+-------------------+----------------+-----------------+\n",
      "| Sandwiches(False) | 0.273631840796 | 0.0414788097385 |\n",
      "+-------------------+----------------+-----------------+\n",
      "| Sandwiches(True)  | 0.726368159204 | 0.958521190261  |\n",
      "+-------------------+----------------+-----------------+\n",
      "+----------------+--------------------+-------------------+\n",
      "| Steakhouses    | Steakhouses(False) | Steakhouses(True) |\n",
      "+----------------+--------------------+-------------------+\n",
      "| Seafood(False) | 0.343891402715     | 0.0725436179982   |\n",
      "+----------------+--------------------+-------------------+\n",
      "| Seafood(True)  | 0.656108597285     | 0.927456382002    |\n",
      "+----------------+--------------------+-------------------+\n",
      "+------------------------+-------------------------------+------------------------------+\n",
      "| American (Traditional) | American (Traditional)(False) | American (Traditional)(True) |\n",
      "+------------------------+-------------------------------+------------------------------+\n",
      "| Steakhouses(False)     | 0.473333333333                | 0.129310344828               |\n",
      "+------------------------+-------------------------------+------------------------------+\n",
      "| Steakhouses(True)      | 0.526666666667                | 0.870689655172               |\n",
      "+------------------------+-------------------------------+------------------------------+\n",
      "+-------------------+----------+\n",
      "| Sushi Bars(False) | 0.164122 |\n",
      "+-------------------+----------+\n",
      "| Sushi Bars(True)  | 0.835878 |\n",
      "+-------------------+----------+\n",
      "+-------------------+---------------+----------------+\n",
      "| Salad             | Salad(False)  | Salad(True)    |\n",
      "+-------------------+---------------+----------------+\n",
      "| Vegetarian(False) | 0.36815920398 | 0.111812443643 |\n",
      "+-------------------+---------------+----------------+\n",
      "| Vegetarian(True)  | 0.63184079602 | 0.888187556357 |\n",
      "+-------------------+---------------+----------------+\n"
     ]
    }
   ],
   "source": [
    "for cpd in model.get_cpds():\n",
    "    print cpd"
   ]
  },
  {
   "cell_type": "code",
   "execution_count": null,
   "metadata": {
    "collapsed": true
   },
   "outputs": [],
   "source": []
  }
 ],
 "metadata": {
  "kernelspec": {
   "display_name": "Python 2",
   "language": "python",
   "name": "python2"
  },
  "language_info": {
   "codemirror_mode": {
    "name": "ipython",
    "version": 2
   },
   "file_extension": ".py",
   "mimetype": "text/x-python",
   "name": "python",
   "nbconvert_exporter": "python",
   "pygments_lexer": "ipython2",
   "version": "2.7.12"
  }
 },
 "nbformat": 4,
 "nbformat_minor": 0
}
